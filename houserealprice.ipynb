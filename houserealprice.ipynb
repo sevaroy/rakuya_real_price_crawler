{
 "cells": [
  {
   "cell_type": "code",
   "execution_count": null,
   "metadata": {},
   "outputs": [],
   "source": [
    "! pip install selenium"
   ]
  },
  {
   "cell_type": "code",
   "execution_count": 17,
   "metadata": {},
   "outputs": [],
   "source": [
    "from urllib.request import urlopen\n",
    "from urllib.error import HTTPError\n",
    "from bs4 import BeautifulSoup\n",
    "import pandas as pd\n",
    "# MAC\n",
    "#import ssl\n",
    "#ssl._create_default_https_context = ssl._create_unverified_context\n",
    "# create dataframe"
   ]
  },
  {
   "cell_type": "code",
   "execution_count": 18,
   "metadata": {},
   "outputs": [],
   "source": [
    "from selenium import webdriver\n",
    "from selenium.common.exceptions import NoSuchElementException\n",
    "from selenium.webdriver.common.keys import Keys\n",
    "import time\n",
    "import pandas as pd"
   ]
  },
  {
   "cell_type": "code",
   "execution_count": 19,
   "metadata": {},
   "outputs": [],
   "source": [
    "driver = webdriver.Chrome('C:/Users/kehua/chromedriver.exe')"
   ]
  },
  {
   "cell_type": "code",
   "execution_count": 20,
   "metadata": {},
   "outputs": [],
   "source": [
    "driver.get('https://www.rakuya.com.tw/realprice/result?city=0&closedate=1y&sort=11&page=1')"
   ]
  },
  {
   "cell_type": "code",
   "execution_count": 21,
   "metadata": {},
   "outputs": [],
   "source": [
    "df = pd.DataFrame(columns=[\"日期\", \"地址\", \"類別\",\"格局\",\"年齡\",\"坪數\",\"每坪價格\",\"賣價\"])"
   ]
  },
  {
   "cell_type": "code",
   "execution_count": 22,
   "metadata": {},
   "outputs": [],
   "source": [
    "soup = BeautifulSoup(driver.page_source)"
   ]
  },
  {
   "cell_type": "code",
   "execution_count": 23,
   "metadata": {},
   "outputs": [
    {
     "ename": "SyntaxError",
     "evalue": "EOL while scanning string literal (<ipython-input-23-a5c443c63ef0>, line 4)",
     "output_type": "error",
     "traceback": [
      "\u001b[1;36m  File \u001b[1;32m\"<ipython-input-23-a5c443c63ef0>\"\u001b[1;36m, line \u001b[1;32m4\u001b[0m\n\u001b[1;33m    url = \"https://www.rakuya.com.tw/realprice/result?city=0&closedate=1y&sort=11&page=\" + str(page)\"\u001b[0m\n\u001b[1;37m                                                                                                     ^\u001b[0m\n\u001b[1;31mSyntaxError\u001b[0m\u001b[1;31m:\u001b[0m EOL while scanning string literal\n"
     ]
    }
   ],
   "source": [
    "page = 1\n",
    "while True:\n",
    "    #url = \"https://tabelog.com/tw/tokyo/rstLst/\" + str(page) + \"/?SrtT=rt\"\n",
    "    url = \"https://www.rakuya.com.tw/realprice/result?city=0&closedate=1y&sort=11&page=\" + str(page)\"\n",
    "    print(\"正在處理頁面:\", url)\n",
    "    try:\n",
    "        response = urlopen(url)\n",
    "    except HTTPError:\n",
    "        print(\"大概是結束了\")\n",
    "        break\n",
    "    soup = BeautifulSoup(driver.page_source)\n",
    "houserealprice = soup.find_all(\"li\",{\"class\":\"obj\"})\n",
    "for hrp in houserealprice:\n",
    "     date = hrp.find(\"span\").text\n",
    "     address = hrp.find(\"h2\").text\n",
    "    \n",
    "     Type = hrp.find(\"span\", class_=\"tType\").text\n",
    "     tLayout = hrp.find(\"span\", class_=\"tLayout\").text\n",
    "     tAge = hrp.find(\"span\", class_=\"tAge\").text\n",
    "     tPing = hrp.find(\"span\", class_=\"tPing\").text\n",
    "     tPprice = hrp.find(\"span\", class_=\"tPprice\").text\n",
    "     tTprice = hrp.find(\"span\", class_=\"tTprice\").text\n",
    "     tDetail = hrp.find(\"span\", class_=\"tDetail\").text\n",
    "    \n",
    "     #print(date,address,Type,tLayout,tAge,tPing,tPprice,tTprice,tDetail)\n",
    "     s = pd.Series([date, address, Type,tLayout,tAge,tPing,tPprice,tTprice,tDetail],\n",
    "                       index=[\"日期\", \"地址\", \"類別\",\"格局\",\"年齡\",\"坪數\",\"每坪價格\",\"賣價\",\"細節\"])\n",
    "     df = df.append(s, ignore_index=True)\n",
    "        \n",
    "     page = page + 1\n",
    "df.to_csv(\"houserealprice.csv\", encoding=\"utf-8\", index=False)"
   ]
  },
  {
   "cell_type": "code",
   "execution_count": null,
   "metadata": {},
   "outputs": [],
   "source": [
    "df"
   ]
  },
  {
   "cell_type": "code",
   "execution_count": null,
   "metadata": {},
   "outputs": [],
   "source": []
  },
  {
   "cell_type": "code",
   "execution_count": null,
   "metadata": {},
   "outputs": [],
   "source": []
  }
 ],
 "metadata": {
  "kernelspec": {
   "display_name": "Python 3",
   "language": "python",
   "name": "python3"
  },
  "language_info": {
   "codemirror_mode": {
    "name": "ipython",
    "version": 3
   },
   "file_extension": ".py",
   "mimetype": "text/x-python",
   "name": "python",
   "nbconvert_exporter": "python",
   "pygments_lexer": "ipython3",
   "version": "3.7.3"
  }
 },
 "nbformat": 4,
 "nbformat_minor": 2
}
