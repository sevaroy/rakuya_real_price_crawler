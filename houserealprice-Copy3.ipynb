{
 "cells": [
  {
   "cell_type": "code",
   "execution_count": null,
   "metadata": {},
   "outputs": [],
   "source": [
    "! pip install selenium"
   ]
  },
  {
   "cell_type": "code",
   "execution_count": null,
   "metadata": {},
   "outputs": [],
   "source": [
    "from urllib.request import urlopen\n",
    "from urllib.error import HTTPError\n",
    "from bs4 import BeautifulSoup\n",
    "import pandas as pd\n",
    "# MAC\n",
    "#import ssl\n",
    "#ssl._create_default_https_context = ssl._create_unverified_context\n",
    "# create dataframe"
   ]
  },
  {
   "cell_type": "code",
   "execution_count": null,
   "metadata": {},
   "outputs": [],
   "source": [
    "from selenium import webdriver\n",
    "from selenium.common.exceptions import NoSuchElementException\n",
    "from selenium.webdriver.common.keys import Keys\n",
    "import time\n",
    "import pandas as pd"
   ]
  },
  {
   "cell_type": "code",
   "execution_count": null,
   "metadata": {},
   "outputs": [],
   "source": [
    "driver = webdriver.Chrome('C:/Users/kehua/chromedriver.exe')\n",
    "url = 'https://www.rakuya.com.tw/realprice/result?city=0&closedate=1y&sort=11&page=2'\n",
    "driver.get(url)"
   ]
  },
  {
   "cell_type": "code",
   "execution_count": null,
   "metadata": {},
   "outputs": [],
   "source": [
    "df = pd.DataFrame(columns=[\"日期\", \"地址\", \"類別\",\"格局\",\"年齡\",\"坪數\",\"每坪價格\",\"賣價\"])"
   ]
  },
  {
   "cell_type": "markdown",
   "metadata": {},
   "source": [
    "page = [2-383]\n",
    "while True:\n",
    "    url = \"https://www.rakuya.com.tw/realprice/result?city=0&closedate=1y&sort=11&page=\" + str(page)\n",
    "    print(\"正在處理頁面:\", url)\n",
    "    try:\n",
    "        response = driver.get(url)\n",
    "    except HTTPError:\n",
    "        print(\"大概是結束了\")\n",
    "        break\n",
    "         soup = BeautifulSoup(response)"
   ]
  },
  {
   "cell_type": "markdown",
   "metadata": {},
   "source": [
    "for i in list(range(42,45)) :\n",
    "    print(i)"
   ]
  },
  {
   "cell_type": "code",
   "execution_count": null,
   "metadata": {},
   "outputs": [],
   "source": [
    "#for i in list(range(5)) :\n",
    "page =42\n",
    "while True:\n",
    "    #url = \"https://www.rakuya.com.tw/realprice/result?city=0&closedate=1y&sort=11&page=\" + str(page)\n",
    "    url = \"https://www.rakuya.com.tw/realprice/result?city=0&zipcode=114&closedate=1y&sort=11&page=\" + str(page)\n",
    "    print(\"正在處理頁面:\", url)\n",
    "    try:\n",
    "        response = driver.get(url)\n",
    "        #soup = BeautifulSoup(response,'html.parser')\n",
    "        #houserealprice = soup.find_all(\"li\",{\"class\":\"obj\"}).text\n",
    "    except HTTPError:\n",
    "        print(\"大概是結束了\")\n",
    "        break\n",
    "        \n",
    "    soup = BeautifulSoup(driver.page_source,'html.parser')\n",
    "\n",
    "    houserealprice = soup.find_all(\"li\",{\"class\":\"obj\"})\n",
    "    for hrp in houserealprice:\n",
    "        date = hrp.find(\"span\").text\n",
    "        address = hrp.find(\"h2\").text\n",
    "        Type = hrp.find(\"span\", class_=\"tType\").text\n",
    "        tLayout = hrp.find(\"span\", class_=\"tLayout\").text\n",
    "        tAge = hrp.find(\"span\", class_=\"tAge\").text\n",
    "        tPing = hrp.find(\"span\", class_=\"tPing\").text\n",
    "        tPprice = hrp.find(\"span\", class_=\"tPprice\").text\n",
    "        tTprice = hrp.find(\"span\", class_=\"tTprice\").text\n",
    "        tDetail = hrp.find(\"span\", class_=\"tDetail\").text\n",
    "             #driver.find_element_by_link_text('Next')\n",
    "        print(date,address,Type,tLayout,tAge,tPing,tPprice,tTprice,tDetail)\n",
    "        s = pd.Series([date, address, Type,tLayout,tAge,tPing,tPprice,tTprice,tDetail],index=[\"日期\", \"地址\", \"類別\",\"格局\",\"年齡\",\"坪數\",\"每坪價格\",\"賣價\",\"細節\"])\n",
    "        df = df.append(s, ignore_index=True)\n",
    "    page = page + 1\n",
    "\n",
    "        \n",
    "     \n",
    "df.to_csv(\"houserealprice.csv\", encoding=\"utf-8\", index=False)"
   ]
  },
  {
   "cell_type": "code",
   "execution_count": null,
   "metadata": {},
   "outputs": [],
   "source": []
  }
 ],
 "metadata": {
  "kernelspec": {
   "display_name": "Python 3",
   "language": "python",
   "name": "python3"
  },
  "language_info": {
   "codemirror_mode": {
    "name": "ipython",
    "version": 3
   },
   "file_extension": ".py",
   "mimetype": "text/x-python",
   "name": "python",
   "nbconvert_exporter": "python",
   "pygments_lexer": "ipython3",
   "version": "3.7.3"
  }
 },
 "nbformat": 4,
 "nbformat_minor": 2
}
